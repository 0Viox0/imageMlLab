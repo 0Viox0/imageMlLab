{
 "cells": [
  {
   "cell_type": "markdown",
   "id": "45b7fd0c-85e3-4ecc-a343-5eceb5d16fcb",
   "metadata": {},
   "source": [
    "<h1>Fetching dataset</h1>"
   ]
  },
  {
   "cell_type": "markdown",
   "id": "d5fdfe17-d629-402b-9d31-b01c0848a656",
   "metadata": {},
   "source": [
    "<h4>Init info for fetching</h4>"
   ]
  },
  {
   "cell_type": "code",
   "execution_count": 3,
   "id": "92a75630-05d2-470c-98b9-19c09f3196cb",
   "metadata": {},
   "outputs": [],
   "source": [
    "import requests\n",
    "import os\n",
    "from concurrent.futures import ThreadPoolExecutor\n",
    "from dotenv import load_dotenv\n",
    "\n",
    "load_dotenv()\n",
    "\n",
    "CAT_API_KEY = os.getenv(\"CAT_API_KEY\")\n",
    "DOG_API_KEY = os.getenv(\"DOG_API_KEY\")\n",
    "NUM_IMAGES = 1000\n",
    "CAT_OUTPUT_DIR = './dataset/cat'\n",
    "DOG_OUTPUT_DIR = './dataset/dog'\n",
    "\n",
    "os.makedirs(CAT_OUTPUT_DIR, exist_ok=True)\n",
    "os.makedirs(DOG_OUTPUT_DIR, exist_ok=True)"
   ]
  },
  {
   "cell_type": "markdown",
   "id": "9b78c890-405e-4b65-bafe-b622340c295c",
   "metadata": {},
   "source": [
    "<h4>Function for fetching cat images</h4>"
   ]
  },
  {
   "cell_type": "code",
   "execution_count": 4,
   "id": "04298287-cab9-49d9-a535-f3bf1a0c6659",
   "metadata": {},
   "outputs": [],
   "source": [
    "def fetch_cat_images(count):\n",
    "    url = \"https://api.thecatapi.com/v1/images/search\"\n",
    "    headers = {\"x-api-key\": CAT_API_KEY}\n",
    "    params = {\"limit\": 30}\n",
    "\n",
    "    images_downloaded = 0\n",
    "\n",
    "    while images_downloaded < count:\n",
    "        response = requests.get(url, headers=headers, params=params)\n",
    "        response.raise_for_status()\n",
    "\n",
    "        data = response.json()\n",
    "        for idx, photo in enumerate(data):\n",
    "            if images_downloaded >= count:\n",
    "                break\n",
    "            image_url = photo[\"url\"]\n",
    "            \n",
    "            try:\n",
    "                image_response = requests.get(image_url)\n",
    "                image_response.raise_for_status()\n",
    "                image_filename = os.path.join(CAT_OUTPUT_DIR, f\"cat_{images_downloaded}.jpg\")\n",
    "                \n",
    "                with open(image_filename, 'wb') as f:\n",
    "                    f.write(image_response.content)\n",
    "                images_downloaded += 1\n",
    "\n",
    "                if images_downloaded % 50 == 0:\n",
    "                    print(f\"Downloaded {images_downloaded} cat images.\")\n",
    "\n",
    "            except requests.exceptions.RequestException as e:\n",
    "                print(f\"Failed to download {image_url}: {e}\")"
   ]
  },
  {
   "cell_type": "markdown",
   "id": "2a7634d0-9b2c-443c-9fc2-112aa7570f2d",
   "metadata": {},
   "source": [
    "<h4>Function for fetching dog images</h4>"
   ]
  },
  {
   "cell_type": "code",
   "execution_count": 5,
   "id": "ce79cc4e-f3da-4674-ba58-22178c062e7b",
   "metadata": {},
   "outputs": [],
   "source": [
    "def fetch_dog_images(count):\n",
    "    url = \"https://api.thedogapi.com/v1/images/search\"\n",
    "    headers = {\"x-api-key\": DOG_API_KEY}\n",
    "    params = {\"limit\": 30}\n",
    "\n",
    "    images_downloaded = 0\n",
    "\n",
    "    while images_downloaded < count:\n",
    "        response = requests.get(url, headers=headers, params=params)\n",
    "        response.raise_for_status()\n",
    "\n",
    "        data = response.json()\n",
    "        for idx, photo in enumerate(data):\n",
    "            if images_downloaded >= count:\n",
    "                break\n",
    "                \n",
    "            image_url = photo[\"url\"]\n",
    "            \n",
    "            try:\n",
    "                image_response = requests.get(image_url)\n",
    "                image_response.raise_for_status()\n",
    "                image_filename = os.path.join(DOG_OUTPUT_DIR, f\"dog_{images_downloaded}.jpg\")\n",
    "                \n",
    "                with open(image_filename, 'wb') as f:\n",
    "                    f.write(image_response.content)\n",
    "                    \n",
    "                images_downloaded += 1\n",
    "\n",
    "                if images_downloaded % 50 == 0:\n",
    "                    print(f\"Downloaded {images_downloaded} dog images.\")\n",
    "\n",
    "            except requests.exceptions.RequestException as e:\n",
    "                print(f\"Failed to download {image_url}: {e}\")"
   ]
  },
  {
   "cell_type": "markdown",
   "id": "bef9b5f4-3ae7-4d83-99d4-82b3e9d2f79f",
   "metadata": {},
   "source": [
    "<h4>Function for concurrent fetching to save time</h4>"
   ]
  },
  {
   "cell_type": "code",
   "execution_count": 6,
   "id": "a4e07877-b721-4398-a0ef-e38a0f2340a7",
   "metadata": {},
   "outputs": [],
   "source": [
    "def fetch_images_concurrently():\n",
    "    with ThreadPoolExecutor(max_workers=2) as executor:\n",
    "\n",
    "        cat_future = executor.submit(fetch_cat_images, NUM_IMAGES)\n",
    "        dog_future = executor.submit(fetch_dog_images, NUM_IMAGES)\n",
    "\n",
    "        cat_future.result()\n",
    "        dog_future.result()"
   ]
  },
  {
   "cell_type": "markdown",
   "id": "211792bf-387a-4615-946c-da77c39f4e35",
   "metadata": {},
   "source": [
    "<h4>Actuall fetching (commented out to not start accidentally again)</h4>"
   ]
  },
  {
   "cell_type": "code",
   "execution_count": 7,
   "id": "0bd22f30-8993-4d60-92bb-3f35498604aa",
   "metadata": {},
   "outputs": [],
   "source": [
    "#fetch_images_concurrently()"
   ]
  },
  {
   "cell_type": "markdown",
   "id": "6bc74949-8db6-41f8-af0e-0919b2651a78",
   "metadata": {},
   "source": [
    "<h1>General imports</h1>"
   ]
  },
  {
   "cell_type": "code",
   "execution_count": 8,
   "id": "d02fca12-ac68-46d5-84c2-d60502f911ca",
   "metadata": {},
   "outputs": [],
   "source": [
    "import os\n",
    "import torch\n",
    "import torch.nn as nn\n",
    "import torch.optim as optim\n",
    "import torchvision.transforms as transforms\n",
    "from torchvision.datasets import ImageFolder\n",
    "from torchvision.models import resnet18\n",
    "from torch.utils.data import DataLoader, random_split\n",
    "from torch.utils.tensorboard import SummaryWriter\n",
    "from sklearn.manifold import TSNE\n",
    "import matplotlib.pyplot as plt\n",
    "import numpy as np"
   ]
  },
  {
   "cell_type": "markdown",
   "id": "38ab05d8-6687-42f8-b1e3-05c56f3f7d81",
   "metadata": {},
   "source": [
    "<h1>General variables</h1>"
   ]
  },
  {
   "cell_type": "code",
   "execution_count": 9,
   "id": "5648b7c3-dd28-4bf0-9181-0039906439d2",
   "metadata": {},
   "outputs": [],
   "source": [
    "DEVICE = torch.device(\"cuda\" if torch.cuda.is_available() else \"cpu\")"
   ]
  },
  {
   "cell_type": "markdown",
   "id": "c8d1af5f-8a33-4a09-8cf6-7d5440850c1b",
   "metadata": {},
   "source": [
    "<h1>Transforming images to a better format</h1>"
   ]
  },
  {
   "cell_type": "code",
   "execution_count": 10,
   "id": "8006047b-4223-4dd2-b2af-4667e854f9dc",
   "metadata": {},
   "outputs": [],
   "source": [
    "DATASET_DIR = \"./dataset\"\n",
    "BATCH_SIZE = 8 #16\n",
    "VAL_SPLIT = 0.2\n",
    "\n",
    "transform = transforms.Compose([\n",
    "    transforms.Resize((128, 128)),\n",
    "    transforms.RandomHorizontalFlip(),\n",
    "    transforms.ToTensor(),\n",
    "    transforms.Normalize(mean=[0.5, 0.5, 0.5], std=[0.5, 0.5, 0.5]),\n",
    "])\n",
    "\n",
    "dataset = ImageFolder(DATASET_DIR, transform=transform)\n",
    "num_val = int(VAL_SPLIT * len(dataset))\n",
    "num_train = len(dataset) - num_val\n",
    "train_dataset, val_dataset = random_split(dataset, [num_train, num_val])\n",
    "\n",
    "train_loader = DataLoader(train_dataset, batch_size=BATCH_SIZE, shuffle=True)\n",
    "val_loader = DataLoader(val_dataset, batch_size=BATCH_SIZE, shuffle=False)"
   ]
  },
  {
   "cell_type": "markdown",
   "id": "cc973780-3943-4fa5-8ff7-cc70d4de5fe1",
   "metadata": {},
   "source": [
    "<h1>The model itself</h1>"
   ]
  },
  {
   "cell_type": "code",
   "execution_count": 11,
   "id": "93cb6c43-29a2-47a5-af25-13fe9be74831",
   "metadata": {},
   "outputs": [],
   "source": [
    "class MyCnn(nn.Module):\n",
    "    def __init__(self):\n",
    "        super(MyCnn, self).__init__()\n",
    "        self.features = nn.Sequential(\n",
    "            nn.Conv2d(3, 32, kernel_size=3, stride=1, padding=1),\n",
    "            nn.ReLU(),\n",
    "            nn.BatchNorm2d(32),\n",
    "            nn.MaxPool2d(kernel_size=2, stride=2),\n",
    "\n",
    "            nn.Conv2d(32, 64, kernel_size=3, stride=1, padding=1),\n",
    "            nn.ReLU(),\n",
    "            nn.BatchNorm2d(64),\n",
    "            nn.MaxPool2d(kernel_size=2, stride=2),\n",
    "            \n",
    "            nn.Conv2d(64, 128, kernel_size=3, stride=1, padding=1),\n",
    "            nn.ReLU(),\n",
    "            nn.BatchNorm2d(128),\n",
    "            nn.MaxPool2d(kernel_size=2, stride=2),\n",
    "\n",
    "            nn.Conv2d(128, 256, kernel_size=3, stride=1, padding=1),\n",
    "            nn.ReLU(),\n",
    "            nn.BatchNorm2d(256),\n",
    "            nn.MaxPool2d(kernel_size=2, stride=2),\n",
    "        )\n",
    "        \n",
    "        self.classifier = nn.Sequential(\n",
    "            nn.Dropout(0.5),\n",
    "            nn.Linear(256 * 8 * 8, 512),\n",
    "            nn.ReLU(),\n",
    "            nn.Linear(512, 128),\n",
    "            nn.ReLU(),\n",
    "            nn.Linear(128, 2),\n",
    "        )\n",
    "\n",
    "    def forward(self, x):\n",
    "        x = self.features(x)\n",
    "        x = x.view(x.size(0), -1)\n",
    "        x = self.classifier(x)\n",
    "        return x"
   ]
  },
  {
   "cell_type": "markdown",
   "id": "5090b3af-1a28-4fd7-ab00-6e93f2618264",
   "metadata": {},
   "source": [
    "<h1>Training function</h1>"
   ]
  },
  {
   "cell_type": "code",
   "execution_count": 12,
   "id": "77a6f057-bdd7-4d73-9947-0d42d221df25",
   "metadata": {},
   "outputs": [],
   "source": [
    "def train_epoch(model, loader, criterion, optimizer):\n",
    "    model.train()\n",
    "    running_loss = 0.0\n",
    "    correct = 0\n",
    "    total = 0\n",
    "\n",
    "    for inputs, labels in loader:\n",
    "        inputs, labels = inputs.to(DEVICE), labels.to(DEVICE)\n",
    "\n",
    "        optimizer.zero_grad()\n",
    "        outputs = model(inputs)\n",
    "        loss = criterion(outputs, labels)\n",
    "        loss.backward()\n",
    "        optimizer.step()\n",
    "\n",
    "        running_loss += loss.item() * inputs.size(0)\n",
    "        _, predicted = outputs.max(1)\n",
    "        total += labels.size(0)\n",
    "        correct += (predicted == labels).sum().item()\n",
    "\n",
    "    epoch_loss = running_loss / total\n",
    "    epoch_acc = correct / total\n",
    "    \n",
    "    return epoch_loss, epoch_acc"
   ]
  },
  {
   "cell_type": "markdown",
   "id": "6723fc23-8eff-41e5-b6b8-17031c8cb2a6",
   "metadata": {},
   "source": [
    "<h1>Validation function</h1>"
   ]
  },
  {
   "cell_type": "code",
   "execution_count": 13,
   "id": "201b41c3-aae3-4413-9630-ba0976ba7503",
   "metadata": {},
   "outputs": [],
   "source": [
    "def validate_epoch(model, loader, criterion):\n",
    "    model.eval()\n",
    "    running_loss = 0.0\n",
    "    correct = 0\n",
    "    total = 0\n",
    "\n",
    "    with torch.no_grad():\n",
    "        for inputs, labels in loader:\n",
    "            inputs, labels = inputs.to(DEVICE), labels.to(DEVICE)\n",
    "            outputs = model(inputs)\n",
    "            loss = criterion(outputs, labels)\n",
    "\n",
    "            running_loss += loss.item() * inputs.size(0)\n",
    "            _, predicted = outputs.max(1)\n",
    "            total += labels.size(0)\n",
    "            correct += (predicted == labels).sum().item()\n",
    "\n",
    "    epoch_loss = running_loss / total\n",
    "    epoch_acc = correct / total\n",
    "    \n",
    "    return epoch_loss, epoch_acc"
   ]
  },
  {
   "cell_type": "markdown",
   "id": "56bd51f5-41ef-456a-9ecd-4c6a647b38f2",
   "metadata": {},
   "source": [
    "<h1>Training of the model</h1>"
   ]
  },
  {
   "cell_type": "code",
   "execution_count": 14,
   "id": "af295303-709b-4894-84f5-af0d30c66f23",
   "metadata": {},
   "outputs": [
    {
     "name": "stdout",
     "output_type": "stream",
     "text": [
      "Epoch 1/30\n",
      "Train Loss: 1.3743 | Train Acc: 0.6035\n",
      "Val Loss: 0.9049 | Val Acc: 0.6185\n",
      "Epoch 2/30\n",
      "Train Loss: 0.7288 | Train Acc: 0.6515\n",
      "Val Loss: 0.6044 | Val Acc: 0.6933\n",
      "Epoch 3/30\n",
      "Train Loss: 0.5783 | Train Acc: 0.6939\n",
      "Val Loss: 0.5877 | Val Acc: 0.6908\n",
      "Epoch 4/30\n",
      "Train Loss: 0.5603 | Train Acc: 0.7145\n",
      "Val Loss: 0.5668 | Val Acc: 0.7057\n",
      "Epoch 5/30\n",
      "Train Loss: 0.5293 | Train Acc: 0.7382\n",
      "Val Loss: 0.5497 | Val Acc: 0.7307\n",
      "Epoch 6/30\n",
      "Train Loss: 0.4987 | Train Acc: 0.7600\n",
      "Val Loss: 0.5737 | Val Acc: 0.7357\n",
      "Epoch 7/30\n",
      "Train Loss: 0.4343 | Train Acc: 0.7918\n",
      "Val Loss: 0.6563 | Val Acc: 0.7132\n",
      "Epoch 8/30\n",
      "Train Loss: 0.4016 | Train Acc: 0.8217\n",
      "Val Loss: 0.4889 | Val Acc: 0.7606\n",
      "Epoch 9/30\n",
      "Train Loss: 0.3857 | Train Acc: 0.8254\n",
      "Val Loss: 0.6190 | Val Acc: 0.7182\n",
      "Epoch 10/30\n",
      "Train Loss: 0.3650 | Train Acc: 0.8566\n",
      "Val Loss: 0.6639 | Val Acc: 0.6708\n",
      "Epoch 11/30\n",
      "Train Loss: 0.2895 | Train Acc: 0.8791\n",
      "Val Loss: 0.5404 | Val Acc: 0.7681\n",
      "Epoch 12/30\n",
      "Train Loss: 0.2888 | Train Acc: 0.8791\n",
      "Val Loss: 0.5741 | Val Acc: 0.7905\n",
      "Epoch 13/30\n",
      "Train Loss: 0.2796 | Train Acc: 0.8921\n",
      "Val Loss: 0.5084 | Val Acc: 0.7830\n",
      "Epoch 14/30\n",
      "Train Loss: 0.2115 | Train Acc: 0.9183\n",
      "Val Loss: 0.6065 | Val Acc: 0.7805\n",
      "Epoch 15/30\n",
      "Train Loss: 0.2375 | Train Acc: 0.9077\n",
      "Val Loss: 0.5382 | Val Acc: 0.7805\n",
      "Epoch 16/30\n",
      "Train Loss: 0.2151 | Train Acc: 0.9127\n",
      "Val Loss: 0.6592 | Val Acc: 0.7830\n",
      "Epoch 17/30\n",
      "Train Loss: 0.1891 | Train Acc: 0.9277\n",
      "Val Loss: 0.5362 | Val Acc: 0.8254\n",
      "Epoch 18/30\n",
      "Train Loss: 0.1798 | Train Acc: 0.9239\n",
      "Val Loss: 0.5716 | Val Acc: 0.8005\n",
      "Epoch 19/30\n",
      "Train Loss: 0.1483 | Train Acc: 0.9458\n",
      "Val Loss: 0.7045 | Val Acc: 0.7332\n",
      "Epoch 20/30\n",
      "Train Loss: 0.1367 | Train Acc: 0.9464\n",
      "Val Loss: 0.6279 | Val Acc: 0.8204\n",
      "Epoch 21/30\n",
      "Train Loss: 0.1515 | Train Acc: 0.9489\n",
      "Val Loss: 0.6298 | Val Acc: 0.8229\n",
      "Epoch 22/30\n",
      "Train Loss: 0.1535 | Train Acc: 0.9451\n",
      "Val Loss: 0.6682 | Val Acc: 0.7855\n",
      "Epoch 23/30\n",
      "Train Loss: 0.1121 | Train Acc: 0.9589\n",
      "Val Loss: 0.8074 | Val Acc: 0.7781\n",
      "Epoch 24/30\n",
      "Train Loss: 0.0910 | Train Acc: 0.9713\n",
      "Val Loss: 0.5809 | Val Acc: 0.8229\n",
      "Epoch 25/30\n",
      "Train Loss: 0.1284 | Train Acc: 0.9495\n",
      "Val Loss: 0.7465 | Val Acc: 0.7830\n",
      "Epoch 26/30\n",
      "Train Loss: 0.0904 | Train Acc: 0.9676\n",
      "Val Loss: 0.7964 | Val Acc: 0.7905\n",
      "Epoch 27/30\n",
      "Train Loss: 0.1165 | Train Acc: 0.9595\n",
      "Val Loss: 0.5892 | Val Acc: 0.7905\n",
      "Epoch 28/30\n",
      "Train Loss: 0.1296 | Train Acc: 0.9483\n",
      "Val Loss: 0.5998 | Val Acc: 0.7980\n",
      "Epoch 29/30\n",
      "Train Loss: 0.0620 | Train Acc: 0.9800\n",
      "Val Loss: 0.7614 | Val Acc: 0.7830\n",
      "Epoch 30/30\n",
      "Train Loss: 0.0989 | Train Acc: 0.9657\n",
      "Val Loss: 0.6293 | Val Acc: 0.8304\n"
     ]
    }
   ],
   "source": [
    "# i've done it so that the model learns a bit faster\n",
    "def init_weights(m):\n",
    "    if isinstance(m, nn.Conv2d):\n",
    "        nn.init.kaiming_normal_(m.weight, mode='fan_out', nonlinearity='relu')\n",
    "    elif isinstance(m, nn.Linear):\n",
    "        nn.init.xavier_normal_(m.weight)\n",
    "\n",
    "model = MyCnn().to(DEVICE)\n",
    "\n",
    "model.apply(init_weights)\n",
    "\n",
    "LEARNING_RATE = 0.001\n",
    "EPOCHS = 30\n",
    "\n",
    "criterion = nn.CrossEntropyLoss()\n",
    "optimizer = optim.Adam(model.parameters(), lr=LEARNING_RATE)\n",
    "\n",
    "writer = SummaryWriter(\"runs/cat_dog_classification\")\n",
    "\n",
    "for epoch in range(EPOCHS):\n",
    "    train_loss, train_acc = train_epoch(model, train_loader, criterion, optimizer)\n",
    "    val_loss, val_acc = validate_epoch(model, val_loader, criterion)\n",
    "\n",
    "    print(f\"Epoch {epoch+1}/{EPOCHS}\")\n",
    "    print(f\"Train Loss: {train_loss:.4f} | Train Acc: {train_acc:.4f}\")\n",
    "    print(f\"Val Loss: {val_loss:.4f} | Val Acc: {val_acc:.4f}\")\n",
    "\n",
    "    writer.add_scalars(\"Loss\", {\"Train\": train_loss, \"Validation\": val_loss}, epoch)\n",
    "    writer.add_scalars(\"Accuracy\", {\"Train\": train_acc, \"Validation\": val_acc}, epoch)"
   ]
  },
  {
   "cell_type": "markdown",
   "id": "e991f60a-5410-4a5d-935c-974204d95ad7",
   "metadata": {},
   "source": [
    "<h1>Different stats</h1>"
   ]
  },
  {
   "cell_type": "code",
   "execution_count": 15,
   "id": "d16fd0fe-1b5e-4728-9a9d-5e4ec980d670",
   "metadata": {},
   "outputs": [
    {
     "name": "stdout",
     "output_type": "stream",
     "text": [
      "Evaluating my cnn model...\n",
      "Weighted F1 Score: 0.8323200733271022\n",
      "\n",
      "Classification Report:\n",
      "               precision    recall  f1-score   support\n",
      "\n",
      "         cat       0.82      0.88      0.85       212\n",
      "         dog       0.85      0.78      0.82       189\n",
      "\n",
      "    accuracy                           0.83       401\n",
      "   macro avg       0.83      0.83      0.83       401\n",
      "weighted avg       0.83      0.83      0.83       401\n",
      "\n"
     ]
    },
    {
     "data": {
      "image/png": "[encoded data removed]",
      "text/plain": [
       "<Figure size 640x480 with 2 Axes>"
      ]
     },
     "metadata": {},
     "output_type": "display_data"
    }
   ],
   "source": [
    "from sklearn.metrics import confusion_matrix, classification_report, ConfusionMatrixDisplay, f1_score\n",
    "\n",
    "def evaluate_model(model, loader):\n",
    "    model.eval()\n",
    "    all_labels = []\n",
    "    all_predictions = []\n",
    "\n",
    "    with torch.no_grad():\n",
    "        for inputs, labels in loader:\n",
    "            inputs, labels = inputs.to(DEVICE), labels.to(DEVICE)\n",
    "            outputs = model(inputs)\n",
    "            _, predicted = outputs.max(1)\n",
    "            all_labels.extend(labels.cpu().numpy())\n",
    "            all_predictions.extend(predicted.cpu().numpy())\n",
    "\n",
    "    f1 = f1_score(all_labels, all_predictions, average=\"weighted\")\n",
    "    cm = confusion_matrix(all_labels, all_predictions)\n",
    "    report = classification_report(all_labels, all_predictions, target_names=dataset.classes)\n",
    "\n",
    "    print(\"Weighted F1 Score:\", f1)\n",
    "    print(\"\\nClassification Report:\\n\", report)\n",
    "\n",
    "    disp = ConfusionMatrixDisplay(confusion_matrix=cm, display_labels=dataset.classes)\n",
    "    disp.plot(cmap=\"viridis\")\n",
    "    plt.title(\"Confusion Matrix\")\n",
    "    plt.show()\n",
    "\n",
    "print(\"Evaluating my cnn model...\")\n",
    "evaluate_model(model, val_loader)"
   ]
  },
  {
   "cell_type": "markdown",
   "id": "e1ef476e-093e-4989-94e7-d38e1022201a",
   "metadata": {},
   "source": [
    "<h1>Embedding visualization stuff</h1>"
   ]
  },
  {
   "cell_type": "code",
   "execution_count": 16,
   "id": "cdc32843-90c8-456d-b1e7-fcbefa844076",
   "metadata": {},
   "outputs": [
    {
     "data": {
      "image/png": "[encoded data removed]",
      "text/plain": [
       "<Figure size 1000x1000 with 1 Axes>"
      ]
     },
     "metadata": {},
     "output_type": "display_data"
    }
   ],
   "source": [
    "def generate_embeddings(model, loader):\n",
    "    model.eval()\n",
    "    embeddings = []\n",
    "    labels = []\n",
    "\n",
    "    with torch.no_grad():\n",
    "        for inputs, label in loader:\n",
    "            inputs = inputs.to(DEVICE)\n",
    "            features = model.features(inputs)\n",
    "            features = features.view(features.size(0), -1)\n",
    "            embeddings.append(features.cpu().numpy())\n",
    "            labels.append(label.numpy())\n",
    "\n",
    "    embeddings = np.concatenate(embeddings, axis=0)\n",
    "    labels = np.concatenate(labels, axis=0)\n",
    "    return embeddings, labels\n",
    "\n",
    "embeddings, labels = generate_embeddings(model, val_loader)\n",
    "\n",
    "tsne = TSNE(n_components=2, random_state=42)\n",
    "embeddings_2d = tsne.fit_transform(embeddings)\n",
    "\n",
    "plt.figure(figsize=(10, 10))\n",
    "for label in np.unique(labels):\n",
    "    idx = labels == label\n",
    "    plt.scatter(embeddings_2d[idx, 0], embeddings_2d[idx, 1], label=dataset.classes[label], alpha=0.7)\n",
    "plt.legend()\n",
    "plt.title(\"t-SNE Visualization of Image Embeddings\")\n",
    "plt.show()"
   ]
  },
  {
   "cell_type": "markdown",
   "id": "9475ba20-c81a-4f7d-a208-327952073af6",
   "metadata": {},
   "source": [
    "<h1>Transfer learning task</h1>"
   ]
  },
  {
   "cell_type": "code",
   "execution_count": 17,
   "id": "52466610-cc3e-4ce8-8c9c-3a7a5e72cfd0",
   "metadata": {},
   "outputs": [
    {
     "name": "stderr",
     "output_type": "stream",
     "text": [
      "/home/viox/.local/lib/python3.10/site-packages/torchvision/models/_utils.py:208: UserWarning: The parameter 'pretrained' is deprecated since 0.13 and may be removed in the future, please use 'weights' instead.\n",
      "  warnings.warn(\n",
      "/home/viox/.local/lib/python3.10/site-packages/torchvision/models/_utils.py:223: UserWarning: Arguments other than a weight enum or `None` for 'weights' are deprecated since 0.13 and may be removed in the future. The current behavior is equivalent to passing `weights=ResNet18_Weights.IMAGENET1K_V1`. You can also use `weights=ResNet18_Weights.DEFAULT` to get the most up-to-date weights.\n",
      "  warnings.warn(msg)\n"
     ]
    },
    {
     "name": "stdout",
     "output_type": "stream",
     "text": [
      "Epoch 1/30 (Transfer Learning)\n",
      "Train Loss: 0.4758 | Train Acc: 0.7830\n",
      "Val Loss: 0.3436 | Val Acc: 0.8204\n",
      "Epoch 2/30 (Transfer Learning)\n",
      "Train Loss: 0.4147 | Train Acc: 0.8192\n",
      "Val Loss: 0.2713 | Val Acc: 0.8878\n",
      "Epoch 3/30 (Transfer Learning)\n",
      "Train Loss: 0.3826 | Train Acc: 0.8267\n",
      "Val Loss: 0.2634 | Val Acc: 0.8978\n",
      "Epoch 4/30 (Transfer Learning)\n",
      "Train Loss: 0.3723 | Train Acc: 0.8292\n",
      "Val Loss: 0.2873 | Val Acc: 0.8828\n",
      "Epoch 5/30 (Transfer Learning)\n",
      "Train Loss: 0.3650 | Train Acc: 0.8473\n",
      "Val Loss: 0.2645 | Val Acc: 0.8928\n",
      "Epoch 6/30 (Transfer Learning)\n",
      "Train Loss: 0.3690 | Train Acc: 0.8373\n",
      "Val Loss: 0.2621 | Val Acc: 0.9027\n",
      "Epoch 7/30 (Transfer Learning)\n",
      "Train Loss: 0.3258 | Train Acc: 0.8579\n",
      "Val Loss: 0.2473 | Val Acc: 0.8828\n",
      "Epoch 8/30 (Transfer Learning)\n",
      "Train Loss: 0.3480 | Train Acc: 0.8566\n",
      "Val Loss: 0.2625 | Val Acc: 0.8903\n",
      "Epoch 9/30 (Transfer Learning)\n",
      "Train Loss: 0.3612 | Train Acc: 0.8485\n",
      "Val Loss: 0.2209 | Val Acc: 0.9302\n",
      "Epoch 10/30 (Transfer Learning)\n",
      "Train Loss: 0.3226 | Train Acc: 0.8666\n",
      "Val Loss: 0.2666 | Val Acc: 0.8828\n",
      "Epoch 11/30 (Transfer Learning)\n",
      "Train Loss: 0.3302 | Train Acc: 0.8522\n",
      "Val Loss: 0.2589 | Val Acc: 0.9002\n",
      "Epoch 12/30 (Transfer Learning)\n",
      "Train Loss: 0.3105 | Train Acc: 0.8678\n",
      "Val Loss: 0.2180 | Val Acc: 0.9277\n",
      "Epoch 13/30 (Transfer Learning)\n",
      "Train Loss: 0.3104 | Train Acc: 0.8660\n",
      "Val Loss: 0.2158 | Val Acc: 0.9227\n",
      "Epoch 14/30 (Transfer Learning)\n",
      "Train Loss: 0.3294 | Train Acc: 0.8535\n",
      "Val Loss: 0.2385 | Val Acc: 0.9077\n",
      "Epoch 15/30 (Transfer Learning)\n",
      "Train Loss: 0.2982 | Train Acc: 0.8697\n",
      "Val Loss: 0.2173 | Val Acc: 0.9152\n",
      "Epoch 16/30 (Transfer Learning)\n",
      "Train Loss: 0.3199 | Train Acc: 0.8591\n",
      "Val Loss: 0.1962 | Val Acc: 0.9277\n",
      "Epoch 17/30 (Transfer Learning)\n",
      "Train Loss: 0.3191 | Train Acc: 0.8597\n",
      "Val Loss: 0.2252 | Val Acc: 0.9352\n",
      "Epoch 18/30 (Transfer Learning)\n",
      "Train Loss: 0.3085 | Train Acc: 0.8672\n",
      "Val Loss: 0.2167 | Val Acc: 0.9277\n",
      "Epoch 19/30 (Transfer Learning)\n",
      "Train Loss: 0.3275 | Train Acc: 0.8579\n",
      "Val Loss: 0.1870 | Val Acc: 0.9352\n",
      "Epoch 20/30 (Transfer Learning)\n",
      "Train Loss: 0.3220 | Train Acc: 0.8566\n",
      "Val Loss: 0.1969 | Val Acc: 0.9252\n",
      "Epoch 21/30 (Transfer Learning)\n",
      "Train Loss: 0.2814 | Train Acc: 0.8840\n",
      "Val Loss: 0.2213 | Val Acc: 0.9102\n",
      "Epoch 22/30 (Transfer Learning)\n",
      "Train Loss: 0.2907 | Train Acc: 0.8716\n",
      "Val Loss: 0.2243 | Val Acc: 0.9252\n",
      "Epoch 23/30 (Transfer Learning)\n",
      "Train Loss: 0.2907 | Train Acc: 0.8772\n",
      "Val Loss: 0.2129 | Val Acc: 0.9252\n",
      "Epoch 24/30 (Transfer Learning)\n",
      "Train Loss: 0.2699 | Train Acc: 0.8815\n",
      "Val Loss: 0.2021 | Val Acc: 0.9277\n",
      "Epoch 25/30 (Transfer Learning)\n",
      "Train Loss: 0.3014 | Train Acc: 0.8685\n",
      "Val Loss: 0.2135 | Val Acc: 0.9077\n",
      "Epoch 26/30 (Transfer Learning)\n",
      "Train Loss: 0.2471 | Train Acc: 0.8884\n",
      "Val Loss: 0.1976 | Val Acc: 0.9227\n",
      "Epoch 27/30 (Transfer Learning)\n",
      "Train Loss: 0.2833 | Train Acc: 0.8828\n",
      "Val Loss: 0.2100 | Val Acc: 0.9377\n",
      "Epoch 28/30 (Transfer Learning)\n",
      "Train Loss: 0.2946 | Train Acc: 0.8784\n",
      "Val Loss: 0.2065 | Val Acc: 0.9252\n",
      "Epoch 29/30 (Transfer Learning)\n",
      "Train Loss: 0.2681 | Train Acc: 0.8878\n",
      "Val Loss: 0.2068 | Val Acc: 0.9152\n",
      "Epoch 30/30 (Transfer Learning)\n",
      "Train Loss: 0.2670 | Train Acc: 0.8897\n",
      "Val Loss: 0.2305 | Val Acc: 0.9252\n"
     ]
    }
   ],
   "source": [
    "resnet = resnet18(pretrained=True)\n",
    "for param in resnet.parameters():\n",
    "    param.requires_grad = False\n",
    "\n",
    "resnet.fc = nn.Sequential(\n",
    "    nn.Linear(resnet.fc.in_features, 128),\n",
    "    nn.ReLU(),\n",
    "    nn.Dropout(0.5),\n",
    "    nn.Linear(128, 2),\n",
    ")\n",
    "resnet = resnet.to(DEVICE)\n",
    "\n",
    "optimizer = optim.Adam(resnet.fc.parameters(), lr=LEARNING_RATE)\n",
    "\n",
    "\n",
    "for epoch in range(EPOCHS):\n",
    "    train_loss, train_acc = train_epoch(resnet, train_loader, criterion, optimizer)\n",
    "    val_loss, val_acc = validate_epoch(resnet, val_loader, criterion)\n",
    "\n",
    "    print(f\"Epoch {epoch+1}/{EPOCHS} (Transfer Learning)\")\n",
    "    print(f\"Train Loss: {train_loss:.4f} | Train Acc: {train_acc:.4f}\")\n",
    "    print(f\"Val Loss: {val_loss:.4f} | Val Acc: {val_acc:.4f}\")\n",
    "\n",
    "    writer.add_scalars(\"Transfer Learning Loss\", {\"Train\": train_loss, \"Validation\": val_loss}, epoch)\n",
    "    writer.add_scalars(\"Transfer Learning Accuracy\", {\"Train\": train_acc, \"Validation\": val_acc}, epoch)"
   ]
  },
  {
   "cell_type": "code",
   "execution_count": 18,
   "id": "31b73d3a-4f91-42cb-9f83-ac4cea435fb7",
   "metadata": {},
   "outputs": [
    {
     "name": "stdout",
     "output_type": "stream",
     "text": [
      "Evaluating Transfer Learning Model...\n",
      "Weighted F1 Score: 0.9250324524293354\n",
      "\n",
      "Classification Report:\n",
      "               precision    recall  f1-score   support\n",
      "\n",
      "         cat       0.91      0.95      0.93       212\n",
      "         dog       0.94      0.89      0.92       189\n",
      "\n",
      "    accuracy                           0.93       401\n",
      "   macro avg       0.93      0.92      0.92       401\n",
      "weighted avg       0.93      0.93      0.93       401\n",
      "\n"
     ]
    },
    {
     "data": {
      "image/png": "[encoded data removed]",
      "text/plain": [
       "<Figure size 640x480 with 2 Axes>"
      ]
     },
     "metadata": {},
     "output_type": "display_data"
    }
   ],
   "source": [
    "print(\"Evaluating Transfer Learning Model...\")\n",
    "evaluate_model(resnet, val_loader)"
   ]
  },
  {
   "cell_type": "code",
   "execution_count": null,
   "id": "2c17379f-628e-4747-bd75-4568e703820b",
   "metadata": {},
   "outputs": [],
   "source": []
  }
 ],
 "metadata": {
  "kernelspec": {
   "display_name": "Python 3 (ipykernel)",
   "language": "python",
   "name": "python3"
  },
  "language_info": {
   "codemirror_mode": {
    "name": "ipython",
    "version": 3
   },
   "file_extension": ".py",
   "mimetype": "text/x-python",
   "name": "python",
   "nbconvert_exporter": "python",
   "pygments_lexer": "ipython3",
   "version": "3.10.12"
  }
 },
 "nbformat": 4,
 "nbformat_minor": 5
}
