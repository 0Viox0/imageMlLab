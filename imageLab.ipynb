{
 "cells": [
  {
   "cell_type": "markdown",
   "id": "45b7fd0c-85e3-4ecc-a343-5eceb5d16fcb",
   "metadata": {},
   "source": [
    "<h1>Fetching dataset</h1>"
   ]
  },
  {
   "cell_type": "markdown",
   "id": "d5fdfe17-d629-402b-9d31-b01c0848a656",
   "metadata": {},
   "source": [
    "<h4>Init info for fetching</h4>"
   ]
  },
  {
   "cell_type": "code",
   "execution_count": 1,
   "id": "92a75630-05d2-470c-98b9-19c09f3196cb",
   "metadata": {},
   "outputs": [],
   "source": [
    "import requests\n",
    "import os\n",
    "from concurrent.futures import ThreadPoolExecutor\n",
    "from dotenv import load_dotenv\n",
    "\n",
    "load_dotenv()\n",
    "\n",
    "CAT_API_KEY = os.getenv(\"CAT_API_KEY\")\n",
    "DOG_API_KEY = os.getenv(\"DOG_API_KEY\")\n",
    "NUM_IMAGES = 1000\n",
    "CAT_OUTPUT_DIR = './dataset/cat'\n",
    "DOG_OUTPUT_DIR = './dataset/dog'\n",
    "\n",
    "os.makedirs(CAT_OUTPUT_DIR, exist_ok=True)\n",
    "os.makedirs(DOG_OUTPUT_DIR, exist_ok=True)"
   ]
  },
  {
   "cell_type": "markdown",
   "id": "9b78c890-405e-4b65-bafe-b622340c295c",
   "metadata": {},
   "source": [
    "<h4>Function for fetching cat images</h4>"
   ]
  },
  {
   "cell_type": "code",
   "execution_count": 2,
   "id": "04298287-cab9-49d9-a535-f3bf1a0c6659",
   "metadata": {},
   "outputs": [],
   "source": [
    "def fetch_cat_images(count):\n",
    "    url = \"https://api.thecatapi.com/v1/images/search\"\n",
    "    headers = {\"x-api-key\": CAT_API_KEY}\n",
    "    params = {\"limit\": 30}\n",
    "\n",
    "    images_downloaded = 0\n",
    "\n",
    "    while images_downloaded < count:\n",
    "        response = requests.get(url, headers=headers, params=params)\n",
    "        response.raise_for_status()\n",
    "\n",
    "        data = response.json()\n",
    "        for idx, photo in enumerate(data):\n",
    "            if images_downloaded >= count:\n",
    "                break\n",
    "            image_url = photo[\"url\"]\n",
    "            try:\n",
    "                image_response = requests.get(image_url)\n",
    "                image_response.raise_for_status()\n",
    "                image_filename = os.path.join(CAT_OUTPUT_DIR, f\"cat_{images_downloaded}.jpg\")\n",
    "                with open(image_filename, 'wb') as f:\n",
    "                    f.write(image_response.content)\n",
    "                images_downloaded += 1\n",
    "\n",
    "                if images_downloaded % 50 == 0:\n",
    "                    print(f\"Downloaded {images_downloaded} cat images.\")\n",
    "\n",
    "            except requests.exceptions.RequestException as e:\n",
    "                print(f\"Failed to download {image_url}: {e}\")"
   ]
  },
  {
   "cell_type": "markdown",
   "id": "2a7634d0-9b2c-443c-9fc2-112aa7570f2d",
   "metadata": {},
   "source": [
    "<h4>Function for fetching dog images</h4>"
   ]
  },
  {
   "cell_type": "code",
   "execution_count": 3,
   "id": "ce79cc4e-f3da-4674-ba58-22178c062e7b",
   "metadata": {},
   "outputs": [],
   "source": [
    "def fetch_dog_images(count):\n",
    "    url = \"https://api.thedogapi.com/v1/images/search\"\n",
    "    headers = {\"x-api-key\": DOG_API_KEY}\n",
    "    params = {\"limit\": 30}\n",
    "\n",
    "    images_downloaded = 0\n",
    "\n",
    "    while images_downloaded < count:\n",
    "        response = requests.get(url, headers=headers, params=params)\n",
    "        response.raise_for_status()\n",
    "\n",
    "        data = response.json()\n",
    "        for idx, photo in enumerate(data):\n",
    "            if images_downloaded >= count:\n",
    "                break\n",
    "            image_url = photo[\"url\"]\n",
    "            try:\n",
    "                image_response = requests.get(image_url)\n",
    "                image_response.raise_for_status()\n",
    "                image_filename = os.path.join(DOG_OUTPUT_DIR, f\"dog_{images_downloaded}.jpg\")\n",
    "                with open(image_filename, 'wb') as f:\n",
    "                    f.write(image_response.content)\n",
    "                images_downloaded += 1\n",
    "\n",
    "                if images_downloaded % 50 == 0:\n",
    "                    print(f\"Downloaded {images_downloaded} dog images.\")\n",
    "\n",
    "            except requests.exceptions.RequestException as e:\n",
    "                print(f\"Failed to download {image_url}: {e}\")"
   ]
  },
  {
   "cell_type": "markdown",
   "id": "bef9b5f4-3ae7-4d83-99d4-82b3e9d2f79f",
   "metadata": {},
   "source": [
    "<h4>Function for concurrent fetching to save time</h4>"
   ]
  },
  {
   "cell_type": "code",
   "execution_count": 4,
   "id": "a4e07877-b721-4398-a0ef-e38a0f2340a7",
   "metadata": {},
   "outputs": [],
   "source": [
    "def fetch_images_concurrently():\n",
    "    with ThreadPoolExecutor(max_workers=2) as executor:\n",
    "\n",
    "        cat_future = executor.submit(fetch_cat_images, NUM_IMAGES)\n",
    "        dog_future = executor.submit(fetch_dog_images, NUM_IMAGES)\n",
    "\n",
    "        cat_future.result()\n",
    "        dog_future.result()"
   ]
  },
  {
   "cell_type": "markdown",
   "id": "211792bf-387a-4615-946c-da77c39f4e35",
   "metadata": {},
   "source": [
    "<h4>Actuall fetching (commented out to not start accidentally again)</h4>"
   ]
  },
  {
   "cell_type": "code",
   "execution_count": 5,
   "id": "0bd22f30-8993-4d60-92bb-3f35498604aa",
   "metadata": {},
   "outputs": [],
   "source": [
    "#fetch_images_concurrently()"
   ]
  },
  {
   "cell_type": "markdown",
   "id": "6bc74949-8db6-41f8-af0e-0919b2651a78",
   "metadata": {},
   "source": [
    "<h1>General imports</h1>"
   ]
  },
  {
   "cell_type": "code",
   "execution_count": 6,
   "id": "d02fca12-ac68-46d5-84c2-d60502f911ca",
   "metadata": {},
   "outputs": [],
   "source": [
    "import os\n",
    "import torch\n",
    "import torch.nn as nn\n",
    "import torch.optim as optim\n",
    "import torchvision.transforms as transforms\n",
    "from torchvision.datasets import ImageFolder\n",
    "from torchvision.models import resnet18\n",
    "from torch.utils.data import DataLoader, random_split\n",
    "from torch.utils.tensorboard import SummaryWriter\n",
    "from sklearn.manifold import TSNE\n",
    "import matplotlib.pyplot as plt\n",
    "import numpy as np"
   ]
  },
  {
   "cell_type": "markdown",
   "id": "38ab05d8-6687-42f8-b1e3-05c56f3f7d81",
   "metadata": {},
   "source": [
    "<h1>General variables</h1>"
   ]
  },
  {
   "cell_type": "code",
   "execution_count": 7,
   "id": "5648b7c3-dd28-4bf0-9181-0039906439d2",
   "metadata": {},
   "outputs": [],
   "source": [
    "DEVICE = torch.device(\"cuda\" if torch.cuda.is_available() else \"cpu\")"
   ]
  },
  {
   "cell_type": "markdown",
   "id": "c8d1af5f-8a33-4a09-8cf6-7d5440850c1b",
   "metadata": {},
   "source": [
    "<h1>Transforming images to a better format</h1>"
   ]
  },
  {
   "cell_type": "code",
   "execution_count": 8,
   "id": "8006047b-4223-4dd2-b2af-4667e854f9dc",
   "metadata": {},
   "outputs": [],
   "source": [
    "DATASET_DIR = \"./dataset\"\n",
    "BATCH_SIZE = 8 #16\n",
    "VAL_SPLIT = 0.2\n",
    "\n",
    "transform = transforms.Compose([\n",
    "    transforms.Resize((128, 128)),\n",
    "    transforms.RandomHorizontalFlip(),\n",
    "    transforms.ToTensor(),\n",
    "    transforms.Normalize(mean=[0.5, 0.5, 0.5], std=[0.5, 0.5, 0.5]),\n",
    "])\n",
    "\n",
    "dataset = ImageFolder(DATASET_DIR, transform=transform)\n",
    "num_val = int(VAL_SPLIT * len(dataset))\n",
    "num_train = len(dataset) - num_val\n",
    "train_dataset, val_dataset = random_split(dataset, [num_train, num_val])\n",
    "\n",
    "train_loader = DataLoader(train_dataset, batch_size=BATCH_SIZE, shuffle=True)\n",
    "val_loader = DataLoader(val_dataset, batch_size=BATCH_SIZE, shuffle=False)"
   ]
  },
  {
   "cell_type": "markdown",
   "id": "cc973780-3943-4fa5-8ff7-cc70d4de5fe1",
   "metadata": {},
   "source": [
    "<h1>The model itself</h1>"
   ]
  },
  {
   "cell_type": "code",
   "execution_count": 9,
   "id": "93cb6c43-29a2-47a5-af25-13fe9be74831",
   "metadata": {},
   "outputs": [],
   "source": [
    "class SimpleCNN(nn.Module):\n",
    "    def __init__(self):\n",
    "        super(SimpleCNN, self).__init__()\n",
    "        self.features = nn.Sequential(\n",
    "            # First Conv Layer\n",
    "            nn.Conv2d(3, 32, kernel_size=3, stride=1, padding=1),\n",
    "            nn.ReLU(),\n",
    "            nn.BatchNorm2d(32),\n",
    "            nn.MaxPool2d(kernel_size=2, stride=2),\n",
    "\n",
    "            # Second Conv Layer\n",
    "            nn.Conv2d(32, 64, kernel_size=3, stride=1, padding=1),\n",
    "            nn.ReLU(),\n",
    "            nn.BatchNorm2d(64),\n",
    "            nn.MaxPool2d(kernel_size=2, stride=2),\n",
    "            \n",
    "            # Third Conv Layer (New Layer)\n",
    "            nn.Conv2d(64, 128, kernel_size=3, stride=1, padding=1),\n",
    "            nn.ReLU(),\n",
    "            nn.BatchNorm2d(128),\n",
    "            nn.MaxPool2d(kernel_size=2, stride=2),\n",
    "\n",
    "            # Fourth Conv Layer (New Layer)\n",
    "            nn.Conv2d(128, 256, kernel_size=3, stride=1, padding=1),\n",
    "            nn.ReLU(),\n",
    "            nn.BatchNorm2d(256),\n",
    "            nn.MaxPool2d(kernel_size=2, stride=2),\n",
    "        )\n",
    "        \n",
    "        # Fully connected layers\n",
    "        self.classifier = nn.Sequential(\n",
    "            nn.Dropout(0.5),\n",
    "            nn.Linear(256 * 8 * 8, 512),  # Adjusted input size to match the new layer dimensions\n",
    "            nn.ReLU(),\n",
    "            nn.Linear(512, 128),\n",
    "            nn.ReLU(),\n",
    "            nn.Linear(128, 2),  # Output layer (binary classification)\n",
    "        )\n",
    "\n",
    "    def forward(self, x):\n",
    "        x = self.features(x)\n",
    "        x = x.view(x.size(0), -1)  # Flatten the feature map\n",
    "        x = self.classifier(x)\n",
    "        return x"
   ]
  },
  {
   "cell_type": "markdown",
   "id": "5090b3af-1a28-4fd7-ab00-6e93f2618264",
   "metadata": {},
   "source": [
    "<h1>Training function</h1>"
   ]
  },
  {
   "cell_type": "code",
   "execution_count": 10,
   "id": "77a6f057-bdd7-4d73-9947-0d42d221df25",
   "metadata": {},
   "outputs": [],
   "source": [
    "def train_epoch(model, loader, criterion, optimizer):\n",
    "    model.train()\n",
    "    running_loss = 0.0\n",
    "    correct = 0\n",
    "    total = 0\n",
    "\n",
    "    for inputs, labels in loader:\n",
    "        inputs, labels = inputs.to(DEVICE), labels.to(DEVICE)\n",
    "\n",
    "        optimizer.zero_grad()\n",
    "        outputs = model(inputs)\n",
    "        loss = criterion(outputs, labels)\n",
    "        loss.backward()\n",
    "        optimizer.step()\n",
    "\n",
    "        running_loss += loss.item() * inputs.size(0)\n",
    "        _, predicted = outputs.max(1)\n",
    "        total += labels.size(0)\n",
    "        correct += (predicted == labels).sum().item()\n",
    "\n",
    "    epoch_loss = running_loss / total\n",
    "    epoch_acc = correct / total\n",
    "    return epoch_loss, epoch_acc"
   ]
  },
  {
   "cell_type": "markdown",
   "id": "6723fc23-8eff-41e5-b6b8-17031c8cb2a6",
   "metadata": {},
   "source": [
    "<h1>Validation function</h1>"
   ]
  },
  {
   "cell_type": "code",
   "execution_count": 11,
   "id": "201b41c3-aae3-4413-9630-ba0976ba7503",
   "metadata": {},
   "outputs": [],
   "source": [
    "def validate_epoch(model, loader, criterion):\n",
    "    model.eval()\n",
    "    running_loss = 0.0\n",
    "    correct = 0\n",
    "    total = 0\n",
    "\n",
    "    with torch.no_grad():\n",
    "        for inputs, labels in loader:\n",
    "            inputs, labels = inputs.to(DEVICE), labels.to(DEVICE)\n",
    "            outputs = model(inputs)\n",
    "            loss = criterion(outputs, labels)\n",
    "\n",
    "            running_loss += loss.item() * inputs.size(0)\n",
    "            _, predicted = outputs.max(1)\n",
    "            total += labels.size(0)\n",
    "            correct += (predicted == labels).sum().item()\n",
    "\n",
    "    epoch_loss = running_loss / total\n",
    "    epoch_acc = correct / total\n",
    "    return epoch_loss, epoch_acc"
   ]
  },
  {
   "cell_type": "markdown",
   "id": "56bd51f5-41ef-456a-9ecd-4c6a647b38f2",
   "metadata": {},
   "source": [
    "<h1>Training of the model</h1>"
   ]
  },
  {
   "cell_type": "code",
   "execution_count": 12,
   "id": "af295303-709b-4894-84f5-af0d30c66f23",
   "metadata": {},
   "outputs": [
    {
     "name": "stdout",
     "output_type": "stream",
     "text": [
      "Epoch 1/30\n",
      "Train Loss: 1.6449 | Train Acc: 0.5774\n",
      "Val Loss: 0.9897 | Val Acc: 0.5250\n",
      "Epoch 2/30\n",
      "Train Loss: 0.6427 | Train Acc: 0.6536\n",
      "Val Loss: 0.5735 | Val Acc: 0.7250\n",
      "Epoch 3/30\n",
      "Train Loss: 0.5476 | Train Acc: 0.7185\n",
      "Val Loss: 0.5775 | Val Acc: 0.6950\n",
      "Epoch 4/30\n",
      "Train Loss: 0.5263 | Train Acc: 0.7322\n",
      "Val Loss: 0.5585 | Val Acc: 0.7025\n",
      "Epoch 5/30\n",
      "Train Loss: 0.4917 | Train Acc: 0.7647\n",
      "Val Loss: 0.5554 | Val Acc: 0.7050\n",
      "Epoch 6/30\n",
      "Train Loss: 0.4630 | Train Acc: 0.7853\n",
      "Val Loss: 0.5019 | Val Acc: 0.7725\n",
      "Epoch 7/30\n",
      "Train Loss: 0.4414 | Train Acc: 0.7990\n",
      "Val Loss: 0.5428 | Val Acc: 0.7525\n",
      "Epoch 8/30\n",
      "Train Loss: 0.4095 | Train Acc: 0.8146\n",
      "Val Loss: 0.5622 | Val Acc: 0.7250\n",
      "Epoch 9/30\n",
      "Train Loss: 0.3700 | Train Acc: 0.8352\n",
      "Val Loss: 0.5623 | Val Acc: 0.7425\n",
      "Epoch 10/30\n",
      "Train Loss: 0.3206 | Train Acc: 0.8670\n",
      "Val Loss: 0.6315 | Val Acc: 0.7500\n",
      "Epoch 11/30\n",
      "Train Loss: 0.2784 | Train Acc: 0.8864\n",
      "Val Loss: 0.6117 | Val Acc: 0.7775\n",
      "Epoch 12/30\n",
      "Train Loss: 0.2732 | Train Acc: 0.8914\n",
      "Val Loss: 0.5698 | Val Acc: 0.7725\n",
      "Epoch 13/30\n",
      "Train Loss: 0.3688 | Train Acc: 0.8596\n",
      "Val Loss: 0.6070 | Val Acc: 0.7625\n",
      "Epoch 14/30\n",
      "Train Loss: 0.2609 | Train Acc: 0.8870\n",
      "Val Loss: 0.6653 | Val Acc: 0.7975\n",
      "Epoch 15/30\n",
      "Train Loss: 0.1917 | Train Acc: 0.9245\n",
      "Val Loss: 0.8430 | Val Acc: 0.7875\n",
      "Epoch 16/30\n",
      "Train Loss: 0.2049 | Train Acc: 0.9226\n",
      "Val Loss: 0.5796 | Val Acc: 0.7725\n",
      "Epoch 17/30\n",
      "Train Loss: 0.1383 | Train Acc: 0.9494\n",
      "Val Loss: 0.7619 | Val Acc: 0.7850\n",
      "Epoch 18/30\n",
      "Train Loss: 0.1747 | Train Acc: 0.9307\n",
      "Val Loss: 0.6569 | Val Acc: 0.7950\n",
      "Epoch 19/30\n",
      "Train Loss: 0.1268 | Train Acc: 0.9513\n",
      "Val Loss: 0.7526 | Val Acc: 0.7675\n",
      "Epoch 20/30\n",
      "Train Loss: 0.1444 | Train Acc: 0.9444\n",
      "Val Loss: 0.7088 | Val Acc: 0.8025\n",
      "Epoch 21/30\n",
      "Train Loss: 0.1237 | Train Acc: 0.9594\n",
      "Val Loss: 0.8803 | Val Acc: 0.7725\n",
      "Epoch 22/30\n",
      "Train Loss: 0.1211 | Train Acc: 0.9588\n",
      "Val Loss: 0.8365 | Val Acc: 0.7675\n",
      "Epoch 23/30\n",
      "Train Loss: 0.0933 | Train Acc: 0.9638\n",
      "Val Loss: 0.8092 | Val Acc: 0.7975\n",
      "Epoch 24/30\n",
      "Train Loss: 0.1057 | Train Acc: 0.9569\n",
      "Val Loss: 0.8116 | Val Acc: 0.7850\n",
      "Epoch 25/30\n",
      "Train Loss: 0.0722 | Train Acc: 0.9763\n",
      "Val Loss: 0.7765 | Val Acc: 0.7850\n",
      "Epoch 26/30\n",
      "Train Loss: 0.1343 | Train Acc: 0.9438\n",
      "Val Loss: 0.5686 | Val Acc: 0.8275\n",
      "Epoch 27/30\n",
      "Train Loss: 0.0805 | Train Acc: 0.9725\n",
      "Val Loss: 0.8217 | Val Acc: 0.7900\n",
      "Epoch 28/30\n",
      "Train Loss: 0.0843 | Train Acc: 0.9700\n",
      "Val Loss: 0.8848 | Val Acc: 0.7725\n",
      "Epoch 29/30\n",
      "Train Loss: 0.0929 | Train Acc: 0.9688\n",
      "Val Loss: 0.9586 | Val Acc: 0.7900\n",
      "Epoch 30/30\n",
      "Train Loss: 0.1107 | Train Acc: 0.9576\n",
      "Val Loss: 0.7174 | Val Acc: 0.7950\n"
     ]
    }
   ],
   "source": [
    "def init_weights(m):\n",
    "    if isinstance(m, nn.Conv2d):\n",
    "        nn.init.kaiming_normal_(m.weight, mode='fan_out', nonlinearity='relu')\n",
    "    elif isinstance(m, nn.Linear):\n",
    "        nn.init.xavier_normal_(m.weight)\n",
    "\n",
    "model = SimpleCNN().to(DEVICE)\n",
    "\n",
    "model.apply(init_weights)\n",
    "\n",
    "LEARNING_RATE = 0.001\n",
    "EPOCHS = 30\n",
    "\n",
    "criterion = nn.CrossEntropyLoss()\n",
    "optimizer = optim.Adam(model.parameters(), lr=LEARNING_RATE)\n",
    "\n",
    "writer = SummaryWriter(\"runs/cat_dog_classification\")\n",
    "\n",
    "for epoch in range(EPOCHS):\n",
    "    train_loss, train_acc = train_epoch(model, train_loader, criterion, optimizer)\n",
    "    val_loss, val_acc = validate_epoch(model, val_loader, criterion)\n",
    "\n",
    "    print(f\"Epoch {epoch+1}/{EPOCHS}\")\n",
    "    print(f\"Train Loss: {train_loss:.4f} | Train Acc: {train_acc:.4f}\")\n",
    "    print(f\"Val Loss: {val_loss:.4f} | Val Acc: {val_acc:.4f}\")\n",
    "\n",
    "    writer.add_scalars(\"Loss\", {\"Train\": train_loss, \"Validation\": val_loss}, epoch)\n",
    "    writer.add_scalars(\"Accuracy\", {\"Train\": train_acc, \"Validation\": val_acc}, epoch)\n",
    "\n",
    "# Save model\n",
    "#torch.save(model.state_dict(), \"cat_dog_simple_cnn.pth\")"
   ]
  },
  {
   "cell_type": "markdown",
   "id": "e991f60a-5410-4a5d-935c-974204d95ad7",
   "metadata": {},
   "source": [
    "<h1>Different stats</h1>"
   ]
  },
  {
   "cell_type": "code",
   "execution_count": 14,
   "id": "d16fd0fe-1b5e-4728-9a9d-5e4ec980d670",
   "metadata": {},
   "outputs": [
    {
     "name": "stdout",
     "output_type": "stream",
     "text": [
      "Evaluating Simple CNN...\n",
      "F1 Score (Weighted): 0.7970407054682686\n",
      "\n",
      "Classification Report:\n",
      "               precision    recall  f1-score   support\n",
      "\n",
      "         cat       0.78      0.75      0.77       178\n",
      "         dog       0.81      0.83      0.82       222\n",
      "\n",
      "    accuracy                           0.80       400\n",
      "   macro avg       0.80      0.79      0.79       400\n",
      "weighted avg       0.80      0.80      0.80       400\n",
      "\n"
     ]
    },
    {
     "data": {
      "image/png": "[encoded data removed]",
      "text/plain": [
       "<Figure size 640x480 with 2 Axes>"
      ]
     },
     "metadata": {},
     "output_type": "display_data"
    }
   ],
   "source": [
    "from sklearn.metrics import confusion_matrix, classification_report, ConfusionMatrixDisplay, f1_score\n",
    "\n",
    "def evaluate_model(model, loader):\n",
    "    model.eval()\n",
    "    all_labels = []\n",
    "    all_predictions = []\n",
    "\n",
    "    with torch.no_grad():\n",
    "        for inputs, labels in loader:\n",
    "            inputs, labels = inputs.to(DEVICE), labels.to(DEVICE)\n",
    "            outputs = model(inputs)\n",
    "            _, predicted = outputs.max(1)\n",
    "            all_labels.extend(labels.cpu().numpy())\n",
    "            all_predictions.extend(predicted.cpu().numpy())\n",
    "\n",
    "    # Compute metrics\n",
    "    f1 = f1_score(all_labels, all_predictions, average=\"weighted\")\n",
    "    cm = confusion_matrix(all_labels, all_predictions)\n",
    "    report = classification_report(all_labels, all_predictions, target_names=dataset.classes)\n",
    "\n",
    "    # Print metrics\n",
    "    print(\"F1 Score (Weighted):\", f1)\n",
    "    print(\"\\nClassification Report:\\n\", report)\n",
    "\n",
    "    # Display confusion matrix\n",
    "    disp = ConfusionMatrixDisplay(confusion_matrix=cm, display_labels=dataset.classes)\n",
    "    disp.plot(cmap=\"viridis\")\n",
    "    plt.title(\"Confusion Matrix\")\n",
    "    plt.show()\n",
    "\n",
    "# Evaluate Simple CNN\n",
    "print(\"Evaluating Simple CNN...\")\n",
    "evaluate_model(model, val_loader)"
   ]
  },
  {
   "cell_type": "markdown",
   "id": "e1ef476e-093e-4989-94e7-d38e1022201a",
   "metadata": {},
   "source": [
    "<h1>Embedding visualization stuff</h1>"
   ]
  },
  {
   "cell_type": "code",
   "execution_count": 15,
   "id": "cdc32843-90c8-456d-b1e7-fcbefa844076",
   "metadata": {},
   "outputs": [
    {
     "ename": "NameError",
     "evalue": "name 'EMBEDDING_DIM' is not defined",
     "output_type": "error",
     "traceback": [
      "\u001b[0;31m---------------------------------------------------------------------------\u001b[0m",
      "\u001b[0;31mNameError\u001b[0m                                 Traceback (most recent call last)",
      "Cell \u001b[0;32mIn[15], line 20\u001b[0m\n\u001b[1;32m     16\u001b[0m     \u001b[38;5;28;01mreturn\u001b[39;00m embeddings, labels\n\u001b[1;32m     18\u001b[0m embeddings, labels \u001b[38;5;241m=\u001b[39m generate_embeddings(model, val_loader)\n\u001b[0;32m---> 20\u001b[0m tsne \u001b[38;5;241m=\u001b[39m TSNE(n_components\u001b[38;5;241m=\u001b[39m\u001b[43mEMBEDDING_DIM\u001b[49m, random_state\u001b[38;5;241m=\u001b[39m\u001b[38;5;241m42\u001b[39m)\n\u001b[1;32m     21\u001b[0m embeddings_2d \u001b[38;5;241m=\u001b[39m tsne\u001b[38;5;241m.\u001b[39mfit_transform(embeddings)\n\u001b[1;32m     23\u001b[0m plt\u001b[38;5;241m.\u001b[39mfigure(figsize\u001b[38;5;241m=\u001b[39m(\u001b[38;5;241m10\u001b[39m, \u001b[38;5;241m10\u001b[39m))\n",
      "\u001b[0;31mNameError\u001b[0m: name 'EMBEDDING_DIM' is not defined"
     ]
    }
   ],
   "source": [
    "def generate_embeddings(model, loader):\n",
    "    model.eval()\n",
    "    embeddings = []\n",
    "    labels = []\n",
    "\n",
    "    with torch.no_grad():\n",
    "        for inputs, label in loader:\n",
    "            inputs = inputs.to(DEVICE)\n",
    "            features = model.features(inputs)\n",
    "            features = features.view(features.size(0), -1)\n",
    "            embeddings.append(features.cpu().numpy())\n",
    "            labels.append(label.numpy())\n",
    "\n",
    "    embeddings = np.concatenate(embeddings, axis=0)\n",
    "    labels = np.concatenate(labels, axis=0)\n",
    "    return embeddings, labels\n",
    "\n",
    "embeddings, labels = generate_embeddings(model, val_loader)\n",
    "\n",
    "tsne = TSNE(n_components=2, random_state=42)\n",
    "embeddings_2d = tsne.fit_transform(embeddings)\n",
    "\n",
    "plt.figure(figsize=(10, 10))\n",
    "for label in np.unique(labels):\n",
    "    idx = labels == label\n",
    "    plt.scatter(embeddings_2d[idx, 0], embeddings_2d[idx, 1], label=dataset.classes[label], alpha=0.7)\n",
    "plt.legend()\n",
    "plt.title(\"t-SNE Visualization of Image Embeddings\")\n",
    "plt.show()"
   ]
  },
  {
   "cell_type": "markdown",
   "id": "9475ba20-c81a-4f7d-a208-327952073af6",
   "metadata": {},
   "source": [
    "<h1>Transfer learning task</h1>"
   ]
  },
  {
   "cell_type": "code",
   "execution_count": 17,
   "id": "52466610-cc3e-4ce8-8c9c-3a7a5e72cfd0",
   "metadata": {},
   "outputs": [
    {
     "name": "stderr",
     "output_type": "stream",
     "text": [
      "/home/viox/.local/lib/python3.10/site-packages/torchvision/models/_utils.py:208: UserWarning: The parameter 'pretrained' is deprecated since 0.13 and may be removed in the future, please use 'weights' instead.\n",
      "  warnings.warn(\n",
      "/home/viox/.local/lib/python3.10/site-packages/torchvision/models/_utils.py:223: UserWarning: Arguments other than a weight enum or `None` for 'weights' are deprecated since 0.13 and may be removed in the future. The current behavior is equivalent to passing `weights=ResNet18_Weights.IMAGENET1K_V1`. You can also use `weights=ResNet18_Weights.DEFAULT` to get the most up-to-date weights.\n",
      "  warnings.warn(msg)\n",
      "Downloading: \"https://download.pytorch.org/models/resnet18-f37072fd.pth\" to /home/viox/snap/alacritty/common/.cache/torch/hub/checkpoints/resnet18-f37072fd.pth\n",
      "100%|██████████████████████████████████████████████████████████████████████████████| 44.7M/44.7M [00:19<00:00, 2.35MB/s]\n"
     ]
    },
    {
     "name": "stdout",
     "output_type": "stream",
     "text": [
      "Epoch 1/30 (Transfer Learning)\n",
      "Train Loss: 0.4791 | Train Acc: 0.7778\n",
      "Val Loss: 0.2979 | Val Acc: 0.8775\n",
      "Epoch 2/30 (Transfer Learning)\n",
      "Train Loss: 0.4148 | Train Acc: 0.8084\n",
      "Val Loss: 0.2789 | Val Acc: 0.8850\n",
      "Epoch 3/30 (Transfer Learning)\n",
      "Train Loss: 0.3804 | Train Acc: 0.8402\n",
      "Val Loss: 0.2773 | Val Acc: 0.8875\n",
      "Epoch 4/30 (Transfer Learning)\n",
      "Train Loss: 0.3641 | Train Acc: 0.8477\n",
      "Val Loss: 0.2629 | Val Acc: 0.9000\n",
      "Epoch 5/30 (Transfer Learning)\n",
      "Train Loss: 0.3700 | Train Acc: 0.8402\n",
      "Val Loss: 0.2609 | Val Acc: 0.8800\n",
      "Epoch 6/30 (Transfer Learning)\n",
      "Train Loss: 0.3467 | Train Acc: 0.8539\n",
      "Val Loss: 0.2550 | Val Acc: 0.9025\n",
      "Epoch 7/30 (Transfer Learning)\n",
      "Train Loss: 0.3308 | Train Acc: 0.8546\n",
      "Val Loss: 0.2617 | Val Acc: 0.8875\n",
      "Epoch 8/30 (Transfer Learning)\n",
      "Train Loss: 0.3422 | Train Acc: 0.8527\n",
      "Val Loss: 0.2575 | Val Acc: 0.8950\n",
      "Epoch 9/30 (Transfer Learning)\n",
      "Train Loss: 0.3544 | Train Acc: 0.8327\n",
      "Val Loss: 0.2713 | Val Acc: 0.8825\n",
      "Epoch 10/30 (Transfer Learning)\n",
      "Train Loss: 0.3215 | Train Acc: 0.8571\n",
      "Val Loss: 0.2831 | Val Acc: 0.8775\n",
      "Epoch 11/30 (Transfer Learning)\n",
      "Train Loss: 0.3506 | Train Acc: 0.8521\n",
      "Val Loss: 0.2657 | Val Acc: 0.8925\n",
      "Epoch 12/30 (Transfer Learning)\n",
      "Train Loss: 0.3308 | Train Acc: 0.8589\n",
      "Val Loss: 0.2802 | Val Acc: 0.9025\n",
      "Epoch 13/30 (Transfer Learning)\n",
      "Train Loss: 0.3327 | Train Acc: 0.8589\n",
      "Val Loss: 0.2564 | Val Acc: 0.8925\n",
      "Epoch 14/30 (Transfer Learning)\n",
      "Train Loss: 0.3001 | Train Acc: 0.8708\n",
      "Val Loss: 0.2716 | Val Acc: 0.8925\n",
      "Epoch 15/30 (Transfer Learning)\n",
      "Train Loss: 0.3046 | Train Acc: 0.8702\n",
      "Val Loss: 0.2267 | Val Acc: 0.9175\n",
      "Epoch 16/30 (Transfer Learning)\n",
      "Train Loss: 0.3314 | Train Acc: 0.8539\n",
      "Val Loss: 0.2305 | Val Acc: 0.8975\n",
      "Epoch 17/30 (Transfer Learning)\n",
      "Train Loss: 0.3068 | Train Acc: 0.8658\n",
      "Val Loss: 0.2514 | Val Acc: 0.9000\n",
      "Epoch 18/30 (Transfer Learning)\n",
      "Train Loss: 0.3255 | Train Acc: 0.8614\n",
      "Val Loss: 0.3056 | Val Acc: 0.8750\n",
      "Epoch 19/30 (Transfer Learning)\n",
      "Train Loss: 0.2994 | Train Acc: 0.8639\n",
      "Val Loss: 0.2560 | Val Acc: 0.9125\n",
      "Epoch 20/30 (Transfer Learning)\n",
      "Train Loss: 0.2837 | Train Acc: 0.8858\n",
      "Val Loss: 0.2243 | Val Acc: 0.9175\n",
      "Epoch 21/30 (Transfer Learning)\n",
      "Train Loss: 0.3083 | Train Acc: 0.8620\n",
      "Val Loss: 0.2379 | Val Acc: 0.8975\n",
      "Epoch 22/30 (Transfer Learning)\n",
      "Train Loss: 0.2779 | Train Acc: 0.8795\n",
      "Val Loss: 0.2402 | Val Acc: 0.9025\n",
      "Epoch 23/30 (Transfer Learning)\n",
      "Train Loss: 0.2874 | Train Acc: 0.8845\n",
      "Val Loss: 0.2262 | Val Acc: 0.9075\n",
      "Epoch 24/30 (Transfer Learning)\n",
      "Train Loss: 0.2750 | Train Acc: 0.8945\n",
      "Val Loss: 0.2368 | Val Acc: 0.8950\n",
      "Epoch 25/30 (Transfer Learning)\n",
      "Train Loss: 0.3115 | Train Acc: 0.8789\n",
      "Val Loss: 0.2453 | Val Acc: 0.9000\n",
      "Epoch 26/30 (Transfer Learning)\n",
      "Train Loss: 0.2936 | Train Acc: 0.8770\n",
      "Val Loss: 0.2576 | Val Acc: 0.8950\n",
      "Epoch 27/30 (Transfer Learning)\n",
      "Train Loss: 0.2801 | Train Acc: 0.8814\n",
      "Val Loss: 0.2689 | Val Acc: 0.8875\n",
      "Epoch 28/30 (Transfer Learning)\n",
      "Train Loss: 0.2913 | Train Acc: 0.8758\n",
      "Val Loss: 0.2618 | Val Acc: 0.8925\n",
      "Epoch 29/30 (Transfer Learning)\n",
      "Train Loss: 0.2852 | Train Acc: 0.8677\n",
      "Val Loss: 0.2517 | Val Acc: 0.9025\n",
      "Epoch 30/30 (Transfer Learning)\n",
      "Train Loss: 0.2780 | Train Acc: 0.8826\n",
      "Val Loss: 0.2641 | Val Acc: 0.9000\n"
     ]
    }
   ],
   "source": [
    "resnet = resnet18(pretrained=True)\n",
    "for param in resnet.parameters():\n",
    "    param.requires_grad = False\n",
    "\n",
    "resnet.fc = nn.Sequential(\n",
    "    nn.Linear(resnet.fc.in_features, 128),\n",
    "    nn.ReLU(),\n",
    "    nn.Dropout(0.5),\n",
    "    nn.Linear(128, 2),\n",
    ")\n",
    "resnet = resnet.to(DEVICE)\n",
    "\n",
    "optimizer = optim.Adam(resnet.fc.parameters(), lr=LEARNING_RATE)\n",
    "\n",
    "\n",
    "for epoch in range(EPOCHS):\n",
    "    train_loss, train_acc = train_epoch(resnet, train_loader, criterion, optimizer)\n",
    "    val_loss, val_acc = validate_epoch(resnet, val_loader, criterion)\n",
    "\n",
    "    print(f\"Epoch {epoch+1}/{EPOCHS} (Transfer Learning)\")\n",
    "    print(f\"Train Loss: {train_loss:.4f} | Train Acc: {train_acc:.4f}\")\n",
    "    print(f\"Val Loss: {val_loss:.4f} | Val Acc: {val_acc:.4f}\")\n",
    "\n",
    "    writer.add_scalars(\"Transfer Learning Loss\", {\"Train\": train_loss, \"Validation\": val_loss}, epoch)\n",
    "    writer.add_scalars(\"Transfer Learning Accuracy\", {\"Train\": train_acc, \"Validation\": val_acc}, epoch)\n",
    "\n",
    "\n",
    "#torch.save(resnet.state_dict(), \"cat_dog_resnet.pth\")"
   ]
  },
  {
   "cell_type": "code",
   "execution_count": 18,
   "id": "31b73d3a-4f91-42cb-9f83-ac4cea435fb7",
   "metadata": {},
   "outputs": [
    {
     "name": "stdout",
     "output_type": "stream",
     "text": [
      "Evaluating Transfer Learning Model...\n",
      "F1 Score (Weighted): 0.8924872342952141\n",
      "\n",
      "Classification Report:\n",
      "               precision    recall  f1-score   support\n",
      "\n",
      "         cat       0.85      0.94      0.89       191\n",
      "         dog       0.94      0.85      0.89       209\n",
      "\n",
      "    accuracy                           0.89       400\n",
      "   macro avg       0.89      0.89      0.89       400\n",
      "weighted avg       0.90      0.89      0.89       400\n",
      "\n"
     ]
    },
    {
     "data": {
      "image/png": "[encoded data removed]",
      "text/plain": [
       "<Figure size 640x480 with 2 Axes>"
      ]
     },
     "metadata": {},
     "output_type": "display_data"
    }
   ],
   "source": [
    "# Evaluate Transfer Learning Model\n",
    "print(\"Evaluating Transfer Learning Model...\")\n",
    "evaluate_model(resnet, val_loader)"
   ]
  },
  {
   "cell_type": "code",
   "execution_count": null,
   "id": "2c17379f-628e-4747-bd75-4568e703820b",
   "metadata": {},
   "outputs": [],
   "source": []
  }
 ],
 "metadata": {
  "kernelspec": {
   "display_name": "Python 3 (ipykernel)",
   "language": "python",
   "name": "python3"
  },
  "language_info": {
   "codemirror_mode": {
    "name": "ipython",
    "version": 3
   },
   "file_extension": ".py",
   "mimetype": "text/x-python",
   "name": "python",
   "nbconvert_exporter": "python",
   "pygments_lexer": "ipython3",
   "version": "3.10.12"
  }
 },
 "nbformat": 4,
 "nbformat_minor": 5
}
